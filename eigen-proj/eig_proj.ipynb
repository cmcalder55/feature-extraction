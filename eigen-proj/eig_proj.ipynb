{
 "cells": [
  {
   "cell_type": "code",
   "execution_count": 1,
   "id": "2cbea38d",
   "metadata": {},
   "outputs": [],
   "source": [
    "\n",
    "import numpy as np\n",
    "from numpy.linalg import eig"
   ]
  },
  {
   "cell_type": "code",
   "execution_count": 76,
   "id": "78cfaec2",
   "metadata": {},
   "outputs": [],
   "source": [
    "\n",
    "\n",
    "def _prep_vector(d):\n",
    "    return [np.array([i]).transpose() for i in d]\n",
    "\n",
    "\n",
    "def projection_vector(data_vectors, d_sum):\n",
    "    \n",
    "    S_w = None\n",
    "    m_diff = None\n",
    "    for d in data_vectors:\n",
    "        # mean vector; track mean difference        \n",
    "        vm = sum(d)/len(d)\n",
    "        if m_diff is None:\n",
    "            m_diff = vm\n",
    "        else:\n",
    "            m_diff -= vm\n",
    "        \n",
    "        # difference between x_k and mean vector            \n",
    "        xk = [i-vm for i in d]\n",
    "        # weighted vector\n",
    "        S_k = np.sum([i.dot(i.T) for i in xk], 0)\n",
    "        if S_w is None:\n",
    "            S_w = S_k\n",
    "        else:\n",
    "            S_w += S_k\n",
    "\n",
    "    print(S_w)\n",
    "    # calculate eigenvalue/vectors    \n",
    "    Sb = np.dot(m_diff, m_diff.T)    \n",
    "    e_val, e_vec = eig(np.dot(S_w.T, Sb))\n",
    "    print(e_val)\n",
    "\n",
    "    # dot prod of original data vectors and weighted\n",
    "    w = np.amax(e_vec, 0)    \n",
    "    return d_sum.dot(w)\n",
    "\n",
    "\n",
    "def classify(d1, d2):\n",
    "    \n",
    "    d_sum = np.array(d1+d2)    \n",
    "    data_vectors = [_prep_vector(d) for d in [d1, d2]]\n",
    "    \n",
    "    projection = projection_vector(data_vectors, d_sum)\n",
    "    n = len(projection)\n",
    "\n",
    "    class2_m = np.mean(projection)\n",
    "    c2_proj = [((i - class2_m)**2)/n for i in projection]\n",
    "    class2_sd = np.sum(c2_proj)\n",
    "\n",
    "    den = np.sum([np.abs(x-1) for x in projection])\n",
    "    class1_m = -n/(2*den)\n",
    "    c1_proj = [np.abs((i - class1_m)**2-1) for i in projection]\n",
    "    class1_d = -n/2*(np.sum(c1_proj))\n",
    "    \n",
    "    return ((class1_m, class1_d), (class2_m, class2_sd))\n",
    "\n"
   ]
  },
  {
   "cell_type": "code",
   "execution_count": 74,
   "id": "a8d14b1c",
   "metadata": {},
   "outputs": [],
   "source": [
    "\n",
    "# training samples D = {D1,D2}\n",
    "\n",
    "# d1 = [[12,7,3],[8,10,7],[10,11,9],[7,12,13],[11,9,10]]\n",
    "# d2 = [[1,4,5],[4,6,6],[1,7,5],[2,8,7],[3,2,5]]\n",
    "\n",
    "d1 = [[1,2], [-3,-1], [4,5], [-1,1]]\n",
    "d2 = [[0,-2], [5,2], [-1,-4], [3,1]]\n"
   ]
  },
  {
   "cell_type": "code",
   "execution_count": 55,
   "id": "847c8752",
   "metadata": {},
   "outputs": [
    {
     "data": {
      "text/plain": [
       "array([[ 7.14168837,  8.64047176,  8.05617319],\n",
       "       [ 8.22574945,  9.54885987,  8.97826948],\n",
       "       [10.79366415, 11.70064191, 11.16252336],\n",
       "       [11.495351  , 12.28861984, 11.75937428],\n",
       "       [10.89249447, 11.7834567 , 11.24658789],\n",
       "       [ 0.45894378,  3.04067135,  2.371868  ],\n",
       "       [ 3.58543212,  5.66050972,  5.0312415 ],\n",
       "       [ 1.8810962 ,  4.23236282,  3.5815429 ],\n",
       "       [ 3.88328351,  5.91009405,  5.28459223],\n",
       "       [ 0.64229695,  3.19431199,  2.52782718]])"
      ]
     },
     "execution_count": 55,
     "metadata": {},
     "output_type": "execute_result"
    }
   ],
   "source": [
    "\n",
    "d = _prep_vector(d1+d2)\n",
    "m = sum(d)/len(d)\n",
    "\n",
    "xk_m = np.subtract(d, m)\n",
    "S_k = [i.dot(i.T) for i in xk_m]\n",
    "S_w = np.sum(S_k, 0)\n",
    "\n",
    "e_val, e_vec = eig(S_w)\n",
    "e_top = np.amax(e_vec, 0)\n",
    "\n",
    "ak = np.dot(e_top.T, xk_m)\n",
    "pca_classifier = m.T + ak*e_top\n",
    "\n",
    "pca_classifier\n"
   ]
  },
  {
   "cell_type": "code",
   "execution_count": 77,
   "id": "8d5c9511",
   "metadata": {},
   "outputs": [
    {
     "name": "stdout",
     "output_type": "stream",
     "text": [
      "[[49.5 44.5]\n",
      " [44.5 41.5]]\n",
      "[ 0. 37.]\n",
      "(np.float64(-0.17421713457678437), np.float64(-264.26447294584693))\n",
      "(np.float64(-0.8680491460208003), np.float64(8.526946503261474))\n"
     ]
    }
   ],
   "source": [
    "\n",
    "weighted_classes = classify(d1, d2)\n",
    "for c in weighted_classes:\n",
    "    print(c)\n",
    "    "
   ]
  },
  {
   "cell_type": "code",
   "execution_count": 64,
   "id": "f6d5e351",
   "metadata": {},
   "outputs": [
    {
     "ename": "LinAlgError",
     "evalue": "0-dimensional array given. Array must be at least two-dimensional",
     "output_type": "error",
     "traceback": [
      "\u001b[1;31m---------------------------------------------------------------------------\u001b[0m",
      "\u001b[1;31mLinAlgError\u001b[0m                               Traceback (most recent call last)",
      "Cell \u001b[1;32mIn[64], line 20\u001b[0m\n\u001b[0;32m     17\u001b[0m md \u001b[38;5;241m=\u001b[39m m[\u001b[38;5;241m0\u001b[39m] \u001b[38;5;241m-\u001b[39m m[\u001b[38;5;241m1\u001b[39m]\n\u001b[0;32m     18\u001b[0m Sb \u001b[38;5;241m=\u001b[39m np\u001b[38;5;241m.\u001b[39mdot(md,md\u001b[38;5;241m.\u001b[39mT)\n\u001b[1;32m---> 20\u001b[0m e_val, e_vec \u001b[38;5;241m=\u001b[39m \u001b[43meig\u001b[49m\u001b[43m(\u001b[49m\u001b[43mnp\u001b[49m\u001b[38;5;241;43m.\u001b[39;49m\u001b[43mdot\u001b[49m\u001b[43m(\u001b[49m\u001b[43mSw\u001b[49m\u001b[38;5;241;43m.\u001b[39;49m\u001b[43mT\u001b[49m\u001b[43m,\u001b[49m\u001b[43mSb\u001b[49m\u001b[43m)\u001b[49m\u001b[43m)\u001b[49m\n\u001b[0;32m     21\u001b[0m \u001b[38;5;28mprint\u001b[39m(e_val)\n",
      "File \u001b[1;32mc:\\projects\\.venv\\Lib\\site-packages\\numpy\\linalg\\_linalg.py:1463\u001b[0m, in \u001b[0;36meig\u001b[1;34m(a)\u001b[0m\n\u001b[0;32m   1333\u001b[0m \u001b[38;5;250m\u001b[39m\u001b[38;5;124;03m\"\"\"\u001b[39;00m\n\u001b[0;32m   1334\u001b[0m \u001b[38;5;124;03mCompute the eigenvalues and right eigenvectors of a square array.\u001b[39;00m\n\u001b[0;32m   1335\u001b[0m \n\u001b[1;32m   (...)\u001b[0m\n\u001b[0;32m   1460\u001b[0m \n\u001b[0;32m   1461\u001b[0m \u001b[38;5;124;03m\"\"\"\u001b[39;00m\n\u001b[0;32m   1462\u001b[0m a, wrap \u001b[38;5;241m=\u001b[39m _makearray(a)\n\u001b[1;32m-> 1463\u001b[0m \u001b[43m_assert_stacked_2d\u001b[49m\u001b[43m(\u001b[49m\u001b[43ma\u001b[49m\u001b[43m)\u001b[49m\n\u001b[0;32m   1464\u001b[0m _assert_stacked_square(a)\n\u001b[0;32m   1465\u001b[0m _assert_finite(a)\n",
      "File \u001b[1;32mc:\\projects\\.venv\\Lib\\site-packages\\numpy\\linalg\\_linalg.py:195\u001b[0m, in \u001b[0;36m_assert_stacked_2d\u001b[1;34m(*arrays)\u001b[0m\n\u001b[0;32m    193\u001b[0m \u001b[38;5;28;01mfor\u001b[39;00m a \u001b[38;5;129;01min\u001b[39;00m arrays:\n\u001b[0;32m    194\u001b[0m     \u001b[38;5;28;01mif\u001b[39;00m a\u001b[38;5;241m.\u001b[39mndim \u001b[38;5;241m<\u001b[39m \u001b[38;5;241m2\u001b[39m:\n\u001b[1;32m--> 195\u001b[0m         \u001b[38;5;28;01mraise\u001b[39;00m LinAlgError(\u001b[38;5;124m'\u001b[39m\u001b[38;5;132;01m%d\u001b[39;00m\u001b[38;5;124m-dimensional array given. Array must be \u001b[39m\u001b[38;5;124m'\u001b[39m\n\u001b[0;32m    196\u001b[0m                 \u001b[38;5;124m'\u001b[39m\u001b[38;5;124mat least two-dimensional\u001b[39m\u001b[38;5;124m'\u001b[39m \u001b[38;5;241m%\u001b[39m a\u001b[38;5;241m.\u001b[39mndim)\n",
      "\u001b[1;31mLinAlgError\u001b[0m: 0-dimensional array given. Array must be at least two-dimensional"
     ]
    }
   ],
   "source": [
    "\n",
    "# d = [_prep_vector(i) for i in [d1, d2]]\n",
    "# m = [sum(i)/len(i) for i in d]\n",
    "d = _prep_vector(d1+d2)\n",
    "m = sum(d)/len(d)\n",
    "\n",
    "# # mean vector\n",
    "# m1, m2 = sum(d1)/len(d1), sum(d2)/len(d2)\n",
    "# difference between x_k and mean vector\n",
    "xk_m = np.subtract(d, m)\n",
    "# xk_m1 = [i-m1 for i in d1]\n",
    "# xk_m2 = [i-m2 for i in d2]\n",
    "\n",
    "Sk = [np.sum([i.dot(i.T) for i in x],0) for x in xk_m]\n",
    "# Sw = Sk(xk_m1) + Sk(xk_m2)\n",
    "Sw = sum(Sk)\n",
    "\n",
    "md = m[0] - m[1]\n",
    "Sb = np.dot(md,md.T)\n",
    "\n",
    "e_val, e_vec = eig(np.dot(Sw.T,Sb))\n",
    "print(e_val)\n"
   ]
  },
  {
   "cell_type": "code",
   "execution_count": null,
   "id": "a9e7c058",
   "metadata": {},
   "outputs": [
    {
     "ename": "ValueError",
     "evalue": "shapes (1,2,1) and (1,2,1) not aligned: 1 (dim 2) != 2 (dim 1)",
     "output_type": "error",
     "traceback": [
      "\u001b[1;31m---------------------------------------------------------------------------\u001b[0m",
      "\u001b[1;31mValueError\u001b[0m                                Traceback (most recent call last)",
      "Cell \u001b[1;32mIn[72], line 14\u001b[0m\n\u001b[0;32m     10\u001b[0m xk_m \u001b[38;5;241m=\u001b[39m [[i\u001b[38;5;241m-\u001b[39mmk \u001b[38;5;28;01mfor\u001b[39;00m i \u001b[38;5;129;01min\u001b[39;00m d] \u001b[38;5;28;01mfor\u001b[39;00m d, mk \u001b[38;5;129;01min\u001b[39;00m \u001b[38;5;28mzip\u001b[39m(data, m)]\n\u001b[0;32m     11\u001b[0m \u001b[38;5;66;03m# xk_m1 = [i-m1 for i in d1]\u001b[39;00m\n\u001b[0;32m     12\u001b[0m \u001b[38;5;66;03m# xk_m2 = [i-m2 for i in d2]\u001b[39;00m\n\u001b[1;32m---> 14\u001b[0m Sk \u001b[38;5;241m=\u001b[39m \u001b[43m[\u001b[49m\u001b[43mnp\u001b[49m\u001b[38;5;241;43m.\u001b[39;49m\u001b[43msum\u001b[49m\u001b[43m(\u001b[49m\u001b[43m[\u001b[49m\u001b[43mi\u001b[49m\u001b[38;5;241;43m.\u001b[39;49m\u001b[43mdot\u001b[49m\u001b[43m(\u001b[49m\u001b[43mi\u001b[49m\u001b[38;5;241;43m.\u001b[39;49m\u001b[43mT\u001b[49m\u001b[43m)\u001b[49m\u001b[43m \u001b[49m\u001b[38;5;28;43;01mfor\u001b[39;49;00m\u001b[43m \u001b[49m\u001b[43mi\u001b[49m\u001b[43m \u001b[49m\u001b[38;5;129;43;01min\u001b[39;49;00m\u001b[43m \u001b[49m\u001b[43mx\u001b[49m\u001b[43m]\u001b[49m\u001b[43m,\u001b[49m\u001b[38;5;241;43m0\u001b[39;49m\u001b[43m)\u001b[49m\u001b[43m \u001b[49m\u001b[38;5;28;43;01mfor\u001b[39;49;00m\u001b[43m \u001b[49m\u001b[43mx\u001b[49m\u001b[43m \u001b[49m\u001b[38;5;129;43;01min\u001b[39;49;00m\u001b[43m \u001b[49m\u001b[43mxk_m\u001b[49m\u001b[43m]\u001b[49m\n\u001b[0;32m     15\u001b[0m \u001b[38;5;66;03m# Sw = Sk(xk_m1) + Sk(xk_m2)\u001b[39;00m\n\u001b[0;32m     16\u001b[0m Sw \u001b[38;5;241m=\u001b[39m \u001b[38;5;28msum\u001b[39m(Sk)\n",
      "Cell \u001b[1;32mIn[72], line 14\u001b[0m, in \u001b[0;36m<listcomp>\u001b[1;34m(.0)\u001b[0m\n\u001b[0;32m     10\u001b[0m xk_m \u001b[38;5;241m=\u001b[39m [[i\u001b[38;5;241m-\u001b[39mmk \u001b[38;5;28;01mfor\u001b[39;00m i \u001b[38;5;129;01min\u001b[39;00m d] \u001b[38;5;28;01mfor\u001b[39;00m d, mk \u001b[38;5;129;01min\u001b[39;00m \u001b[38;5;28mzip\u001b[39m(data, m)]\n\u001b[0;32m     11\u001b[0m \u001b[38;5;66;03m# xk_m1 = [i-m1 for i in d1]\u001b[39;00m\n\u001b[0;32m     12\u001b[0m \u001b[38;5;66;03m# xk_m2 = [i-m2 for i in d2]\u001b[39;00m\n\u001b[1;32m---> 14\u001b[0m Sk \u001b[38;5;241m=\u001b[39m [np\u001b[38;5;241m.\u001b[39msum(\u001b[43m[\u001b[49m\u001b[43mi\u001b[49m\u001b[38;5;241;43m.\u001b[39;49m\u001b[43mdot\u001b[49m\u001b[43m(\u001b[49m\u001b[43mi\u001b[49m\u001b[38;5;241;43m.\u001b[39;49m\u001b[43mT\u001b[49m\u001b[43m)\u001b[49m\u001b[43m \u001b[49m\u001b[38;5;28;43;01mfor\u001b[39;49;00m\u001b[43m \u001b[49m\u001b[43mi\u001b[49m\u001b[43m \u001b[49m\u001b[38;5;129;43;01min\u001b[39;49;00m\u001b[43m \u001b[49m\u001b[43mx\u001b[49m\u001b[43m]\u001b[49m,\u001b[38;5;241m0\u001b[39m) \u001b[38;5;28;01mfor\u001b[39;00m x \u001b[38;5;129;01min\u001b[39;00m xk_m]\n\u001b[0;32m     15\u001b[0m \u001b[38;5;66;03m# Sw = Sk(xk_m1) + Sk(xk_m2)\u001b[39;00m\n\u001b[0;32m     16\u001b[0m Sw \u001b[38;5;241m=\u001b[39m \u001b[38;5;28msum\u001b[39m(Sk)\n",
      "Cell \u001b[1;32mIn[72], line 14\u001b[0m, in \u001b[0;36m<listcomp>\u001b[1;34m(.0)\u001b[0m\n\u001b[0;32m     10\u001b[0m xk_m \u001b[38;5;241m=\u001b[39m [[i\u001b[38;5;241m-\u001b[39mmk \u001b[38;5;28;01mfor\u001b[39;00m i \u001b[38;5;129;01min\u001b[39;00m d] \u001b[38;5;28;01mfor\u001b[39;00m d, mk \u001b[38;5;129;01min\u001b[39;00m \u001b[38;5;28mzip\u001b[39m(data, m)]\n\u001b[0;32m     11\u001b[0m \u001b[38;5;66;03m# xk_m1 = [i-m1 for i in d1]\u001b[39;00m\n\u001b[0;32m     12\u001b[0m \u001b[38;5;66;03m# xk_m2 = [i-m2 for i in d2]\u001b[39;00m\n\u001b[1;32m---> 14\u001b[0m Sk \u001b[38;5;241m=\u001b[39m [np\u001b[38;5;241m.\u001b[39msum([\u001b[43mi\u001b[49m\u001b[38;5;241;43m.\u001b[39;49m\u001b[43mdot\u001b[49m\u001b[43m(\u001b[49m\u001b[43mi\u001b[49m\u001b[38;5;241;43m.\u001b[39;49m\u001b[43mT\u001b[49m\u001b[43m)\u001b[49m \u001b[38;5;28;01mfor\u001b[39;00m i \u001b[38;5;129;01min\u001b[39;00m x],\u001b[38;5;241m0\u001b[39m) \u001b[38;5;28;01mfor\u001b[39;00m x \u001b[38;5;129;01min\u001b[39;00m xk_m]\n\u001b[0;32m     15\u001b[0m \u001b[38;5;66;03m# Sw = Sk(xk_m1) + Sk(xk_m2)\u001b[39;00m\n\u001b[0;32m     16\u001b[0m Sw \u001b[38;5;241m=\u001b[39m \u001b[38;5;28msum\u001b[39m(Sk)\n",
      "\u001b[1;31mValueError\u001b[0m: shapes (1,2,1) and (1,2,1) not aligned: 1 (dim 2) != 2 (dim 1)"
     ]
    }
   ],
   "source": [
    "\n",
    "# d = [_prep_vector(i) for i in [d1, d2]]\n",
    "# m = [sum(i)/len(i) for i in d]\n",
    "\n",
    "d_train = [d1, d2]\n",
    "data = [_prep_vector(d) for d in d_train]\n",
    "m = [sum(d)/len(d) for d in d_train]\n",
    "\n",
    "# # mean vector\n",
    "# m1, m2 = sum(d1)/len(d1), sum(d2)/len(d2)\n",
    "# difference between x_k and mean vector\n",
    "xk_m = [[i-mk for i in d] for d, mk in zip(data, m)]\n",
    "# xk_m1 = [i-m1 for i in d1]\n",
    "# xk_m2 = [i-m2 for i in d2]\n",
    "\n",
    "Sk = [np.sum([i.dot(i.T) for i in x],0) for x in xk_m]\n",
    "# Sw = Sk(xk_m1) + Sk(xk_m2)\n",
    "Sw = sum(Sk)\n",
    "\n",
    "md = m[0] - m[1]\n",
    "Sb = np.dot(md,md.T)\n",
    "\n",
    "e_val, e_vec = eig(np.dot(Sw.T,Sb))\n",
    "print(e_val)\n"
   ]
  },
  {
   "cell_type": "code",
   "execution_count": 67,
   "id": "69451681",
   "metadata": {},
   "outputs": [
    {
     "name": "stdout",
     "output_type": "stream",
     "text": [
      "[[49.5 44.5]\n",
      " [44.5 41.5]]\n",
      "[ 0. 37.]\n",
      "(np.float64(-0.17421713457678437), np.float64(-264.26447294584693)) (np.float64(-0.8680491460208003), np.float64(8.526946503261474))\n"
     ]
    }
   ],
   "source": [
    "\n",
    "## ORIGINAL ##\n",
    "\n",
    "d_original = np.array(d1+d2)\n",
    "\n",
    "d = lambda x: [np.array([i]).transpose() for i in x]\n",
    "\n",
    "d1 = d(d1)\n",
    "d2 = d(d2)\n",
    "\n",
    "# mean vector\n",
    "m1, m2 = sum(d1)/len(d1), sum(d2)/len(d2)\n",
    "# difference between x_k and mean vector\n",
    "xk_m1 = [i-m1 for i in d1]\n",
    "xk_m2 = [i-m2 for i in d2]\n",
    "\n",
    "Sk = lambda x: np.sum([i.dot(i.T) for i in x],0)\n",
    "Sw = Sk(xk_m1) + Sk(xk_m2)\n",
    "print(Sw)\n",
    "\n",
    "md = m1 - m2\n",
    "Sb = np.dot(md,md.T)\n",
    "\n",
    "e_val, e_vec = eig(np.dot(Sw.T,Sb))\n",
    "print(e_val)\n",
    "w = np.amax(e_vec,0)\n",
    "\n",
    "projection = d_original.dot(w)\n",
    "n = len(projection)\n",
    "\n",
    "class2_m = np.mean(projection)\n",
    "class2_sd = np.sum([((i - class2_m)**2)/n for i in projection])\n",
    "\n",
    "den = np.sum([np.abs(x-1) for x in projection])\n",
    "class1_m = -n/(2*den)\n",
    "class1_d = -n/2*(np.sum([np.abs((i - class1_m)**2-1) for i in projection]))\n",
    "\n",
    "print((class1_m, class1_d), (class2_m, class2_sd))\n"
   ]
  }
 ],
 "metadata": {
  "kernelspec": {
   "display_name": ".venv",
   "language": "python",
   "name": "python3"
  },
  "language_info": {
   "codemirror_mode": {
    "name": "ipython",
    "version": 3
   },
   "file_extension": ".py",
   "mimetype": "text/x-python",
   "name": "python",
   "nbconvert_exporter": "python",
   "pygments_lexer": "ipython3",
   "version": "3.11.9"
  }
 },
 "nbformat": 4,
 "nbformat_minor": 5
}
