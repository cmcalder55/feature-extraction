{
 "cells": [
  {
   "cell_type": "markdown",
   "id": "6f300fac-605d-406a-8089-c2017b33cdde",
   "metadata": {
    "tags": []
   },
   "source": [
    "# Step 1"
   ]
  },
  {
   "cell_type": "code",
   "execution_count": 88,
   "id": "2b3baec3-2bb3-401f-b35a-65b2a47c9f58",
   "metadata": {},
   "outputs": [],
   "source": [
    "import numpy as np\n",
    "from numpy.linalg import eig"
   ]
  },
  {
   "cell_type": "code",
   "execution_count": 89,
   "id": "8e8de847",
   "metadata": {},
   "outputs": [],
   "source": [
    "# training samples D = {D1,D2}\n",
    "d1 = [[12,7,3],[8,10,7],[10,11,9],[7,12,13],[11,9,10]]\n",
    "d2 = [[1,4,5],[4,6,6],[1,7,5],[2,8,7],[3,2,5]]\n",
    "\n",
    "d_original = np.array(d1+d2)\n",
    "\n",
    "d = lambda x: [np.array([i]).transpose() for i in x]\n",
    "\n",
    "d1 = d(d1)\n",
    "d2 = d(d2)"
   ]
  },
  {
   "cell_type": "code",
   "execution_count": 92,
   "id": "56bbfb5b",
   "metadata": {
    "scrolled": true
   },
   "outputs": [
    {
     "data": {
      "text/plain": [
       "(array([[9.6],\n",
       "        [9.8],\n",
       "        [8.4]]),\n",
       " array([[2.2],\n",
       "        [5.4],\n",
       "        [5.6]]))"
      ]
     },
     "execution_count": 92,
     "metadata": {},
     "output_type": "execute_result"
    }
   ],
   "source": [
    "m1, m2 = sum(d1)/len(d1), sum(d2)/len(d2)\n",
    "m1, m2"
   ]
  },
  {
   "cell_type": "code",
   "execution_count": 93,
   "id": "26fcdb94",
   "metadata": {},
   "outputs": [],
   "source": [
    "# difference between x_k and mean vector\n",
    "xk_m1 = [i-m1 for i in d1]\n",
    "xk_m2 = [i-m2 for i in d2]\n",
    "# xk_m1, xk_m2"
   ]
  },
  {
   "cell_type": "code",
   "execution_count": 94,
   "id": "ac7062b5",
   "metadata": {},
   "outputs": [
    {
     "data": {
      "text/plain": [
       "array([[ 24. , -15.8, -18.8],\n",
       "       [-15.8,  38. ,  30.2],\n",
       "       [-18.8,  30.2,  58.4]])"
      ]
     },
     "execution_count": 94,
     "metadata": {},
     "output_type": "execute_result"
    }
   ],
   "source": [
    "Sk = lambda x: np.sum([i.dot(i.T) for i in x],0)\n",
    "Sw = Sk(xk_m1) + Sk(xk_m2)\n",
    "Sw"
   ]
  },
  {
   "cell_type": "code",
   "execution_count": 95,
   "id": "4da0c1ed",
   "metadata": {
    "scrolled": true
   },
   "outputs": [
    {
     "data": {
      "text/plain": [
       "array([[54.76, 32.56, 20.72],\n",
       "       [32.56, 19.36, 12.32],\n",
       "       [20.72, 12.32,  7.84]])"
      ]
     },
     "execution_count": 95,
     "metadata": {},
     "output_type": "execute_result"
    }
   ],
   "source": [
    "md = m1 - m2\n",
    "Sb = np.dot(md,md.T)\n",
    "Sb"
   ]
  },
  {
   "cell_type": "code",
   "execution_count": 86,
   "id": "172bd6c6",
   "metadata": {},
   "outputs": [
    {
     "data": {
      "text/plain": [
       "array([0.73338223, 0.87338958, 0.28307939])"
      ]
     },
     "execution_count": 86,
     "metadata": {},
     "output_type": "execute_result"
    }
   ],
   "source": [
    "e_val, e_vec = eig(np.dot(Sw.T,Sb))\n",
    "w = np.amax(e_vec,0)\n",
    "w"
   ]
  },
  {
   "cell_type": "code",
   "execution_count": 87,
   "id": "2bb0d5b7",
   "metadata": {},
   "outputs": [
    {
     "data": {
      "text/plain": [
       "array([15.76355198, 16.58250938, 19.48882219, 19.29438264, 18.75850464,\n",
       "        5.6423375 ,  9.87234274,  8.26250626, 10.43543684,  5.36232279])"
      ]
     },
     "execution_count": 87,
     "metadata": {},
     "output_type": "execute_result"
    }
   ],
   "source": [
    "projection = d_original.dot(w)\n",
    "projection"
   ]
  },
  {
   "cell_type": "code",
   "execution_count": 99,
   "id": "dee52be6",
   "metadata": {
    "scrolled": true
   },
   "outputs": [
    {
     "data": {
      "text/plain": [
       "(12.946271695855813, 28.659954925238885)"
      ]
     },
     "execution_count": 99,
     "metadata": {},
     "output_type": "execute_result"
    }
   ],
   "source": [
    "n = len(projection)\n",
    "class2_m = np.mean(projection)\n",
    "class2_sd = np.sum([((i - class2_m)**2)/n for i in projection])\n",
    "\n",
    "class2_m, class2_sd"
   ]
  },
  {
   "cell_type": "code",
   "execution_count": 110,
   "id": "92f9a285",
   "metadata": {},
   "outputs": [
    {
     "data": {
      "text/plain": [
       "0.04185406231581448"
      ]
     },
     "execution_count": 110,
     "metadata": {},
     "output_type": "execute_result"
    }
   ],
   "source": [
    "5/den"
   ]
  },
  {
   "cell_type": "code",
   "execution_count": 112,
   "id": "fa414872",
   "metadata": {},
   "outputs": [
    {
     "data": {
      "text/plain": [
       "(-0.04185406231581448, -9817.568281766009)"
      ]
     },
     "execution_count": 112,
     "metadata": {},
     "output_type": "execute_result"
    }
   ],
   "source": [
    "den = np.sum([np.abs(x-1) for x in projection])\n",
    "class1_m = -n/(2*den)\n",
    "class1_d = -n/2*(np.sum([np.abs((i - class1_m)**2-1) for i in projection]))\n",
    "\n",
    "class1_m, class1_d"
   ]
  }
 ],
 "metadata": {
  "kernelspec": {
   "display_name": "Python 3 (ipykernel)",
   "language": "python",
   "name": "python3"
  },
  "language_info": {
   "codemirror_mode": {
    "name": "ipython",
    "version": 3
   },
   "file_extension": ".py",
   "mimetype": "text/x-python",
   "name": "python",
   "nbconvert_exporter": "python",
   "pygments_lexer": "ipython3",
   "version": "3.10.9"
  }
 },
 "nbformat": 4,
 "nbformat_minor": 5
}
