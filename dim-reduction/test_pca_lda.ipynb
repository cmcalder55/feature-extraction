{
 "cells": [
  {
   "cell_type": "code",
   "execution_count": 265,
   "id": "2cbea38d",
   "metadata": {},
   "outputs": [],
   "source": [
    "\n",
    "import numpy as np\n",
    "from numpy.linalg import eig\n",
    "from eig_projections import create_lda_classifier, create_pca_classifier"
   ]
  },
  {
   "cell_type": "markdown",
   "id": "9be36666",
   "metadata": {},
   "source": [
    "# examples"
   ]
  },
  {
   "cell_type": "code",
   "execution_count": 268,
   "id": "a03bcc18",
   "metadata": {},
   "outputs": [],
   "source": [
    "\n",
    "# training samples D = {D1,D2}\n",
    "\n",
    "d1 = [[1,2], [-3,-1], [4,5], [-1,1]]\n",
    "d2 = [[0,-2], [5,2], [-1,-4], [3,1]]\n",
    "sample1 = [d1, d2]\n",
    "\n",
    "d1 = [[12,7,3],[8,10,7],[10,11,9],[7,12,13],[11,9,10]]\n",
    "d2 = [[1,4,5],[4,6,6],[1,7,5],[2,8,7],[3,2,5]]\n",
    "sample2 = [d1, d2]\n"
   ]
  },
  {
   "cell_type": "markdown",
   "id": "8b9b0d2f",
   "metadata": {},
   "source": [
    "## PCA classifier"
   ]
  },
  {
   "cell_type": "code",
   "execution_count": 269,
   "id": "63555dea",
   "metadata": {},
   "outputs": [
    {
     "data": {
      "text/plain": [
       "array([[ 1.75,  1.25],\n",
       "       [-1.75, -2.25],\n",
       "       [ 4.75,  4.25],\n",
       "       [ 0.25, -0.25],\n",
       "       [-0.75, -1.25],\n",
       "       [ 3.75,  3.25],\n",
       "       [-2.25, -2.75],\n",
       "       [ 2.25,  1.75]])"
      ]
     },
     "execution_count": 269,
     "metadata": {},
     "output_type": "execute_result"
    }
   ],
   "source": [
    "create_pca_classifier(sample1)\n"
   ]
  },
  {
   "cell_type": "code",
   "execution_count": 270,
   "id": "1e3682cd",
   "metadata": {},
   "outputs": [
    {
     "data": {
      "text/plain": [
       "array([[ 7.14168837,  8.64047176,  8.05617319],\n",
       "       [ 8.22574945,  9.54885987,  8.97826948],\n",
       "       [10.79366415, 11.70064191, 11.16252336],\n",
       "       [11.495351  , 12.28861984, 11.75937428],\n",
       "       [10.89249447, 11.7834567 , 11.24658789],\n",
       "       [ 0.45894378,  3.04067135,  2.371868  ],\n",
       "       [ 3.58543212,  5.66050972,  5.0312415 ],\n",
       "       [ 1.8810962 ,  4.23236282,  3.5815429 ],\n",
       "       [ 3.88328351,  5.91009405,  5.28459223],\n",
       "       [ 0.64229695,  3.19431199,  2.52782718]])"
      ]
     },
     "execution_count": 270,
     "metadata": {},
     "output_type": "execute_result"
    }
   ],
   "source": [
    "create_pca_classifier(sample2)"
   ]
  },
  {
   "cell_type": "markdown",
   "id": "d343b0e0",
   "metadata": {},
   "source": [
    "## LDA classifier"
   ]
  },
  {
   "cell_type": "code",
   "execution_count": 271,
   "id": "010e8b10",
   "metadata": {},
   "outputs": [
    {
     "data": {
      "text/plain": [
       "array([[ -6.57436998,   7.21854456],\n",
       "       [-10.45562454,  11.48009496],\n",
       "       [ -8.19023923,   8.99274105],\n",
       "       [-11.53287071,  12.66289262],\n",
       "       [ 12.07149379, -13.25429145],\n",
       "       [ 15.41412527, -16.92444302],\n",
       "       [ 18.64586377, -20.47283601],\n",
       "       [ 10.45562454, -11.48009496]])"
      ]
     },
     "execution_count": 271,
     "metadata": {},
     "output_type": "execute_result"
    }
   ],
   "source": [
    "create_lda_classifier(sample1)"
   ]
  },
  {
   "cell_type": "code",
   "execution_count": 272,
   "id": "19564aaa",
   "metadata": {},
   "outputs": [
    {
     "data": {
      "text/plain": [
       "array([[4.98841905, 2.53250175, 0.72444152],\n",
       "       [4.39687713, 2.23218998, 0.63853504],\n",
       "       [5.26984399, 2.6753745 , 0.76531137],\n",
       "       [4.67351237, 2.37263111, 0.6787093 ],\n",
       "       [5.31036188, 2.69594447, 0.77119557],\n",
       "       [1.17206554, 0.59502981, 0.17021283],\n",
       "       [2.47009376, 1.25400787, 0.35871856],\n",
       "       [1.64722419, 0.83625655, 0.23921759],\n",
       "       [2.20820831, 1.12105486, 0.32068633],\n",
       "       [1.47925857, 0.75098441, 0.21482484]])"
      ]
     },
     "execution_count": 272,
     "metadata": {},
     "output_type": "execute_result"
    }
   ],
   "source": [
    "create_lda_classifier(sample2)"
   ]
  }
 ],
 "metadata": {
  "kernelspec": {
   "display_name": ".venv",
   "language": "python",
   "name": "python3"
  },
  "language_info": {
   "codemirror_mode": {
    "name": "ipython",
    "version": 3
   },
   "file_extension": ".py",
   "mimetype": "text/x-python",
   "name": "python",
   "nbconvert_exporter": "python",
   "pygments_lexer": "ipython3",
   "version": "3.11.9"
  }
 },
 "nbformat": 4,
 "nbformat_minor": 5
}
